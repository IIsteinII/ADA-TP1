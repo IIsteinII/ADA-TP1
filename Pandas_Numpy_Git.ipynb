{
 "cells": [
  {
   "cell_type": "markdown",
   "metadata": {},
   "source": [
    "# **Técnicas de Programação 1 - Análise Exploratória de Dados de Vendas Online**\n",
    "**Objetivo:**\n",
    "O objetivo deste projeto é proporcionar a oportunidade de aplicar os conhecimentos adquiridos ao longo da disciplina de Técnicas de Programação 1 \n",
    "em um contexto prático, relevante e data-driven.\n",
    "**Realizado por:**\n",
    "Artur Stein - 1116023\n"
   ]
  },
  {
   "cell_type": "markdown",
   "metadata": {},
   "source": [
    "**Importando as bibliotecas**"
   ]
  },
  {
   "cell_type": "code",
   "execution_count": null,
   "metadata": {
    "tags": []
   },
   "outputs": [],
   "source": [
    "import pandas as pd\n",
    "import numpy as np"
   ]
  },
  {
   "cell_type": "markdown",
   "metadata": {},
   "source": [
    "**Importando os datasets**"
   ]
  },
  {
   "cell_type": "code",
   "execution_count": null,
   "metadata": {},
   "outputs": [],
   "source": [
    "df_customers = pd.read_csv('olist_customers_dataset.csv')\n",
    "df_reviews = pd.read_csv('olist_order_reviews_dataset.csv')\n",
    "df_products = pd.read_csv('olist_products_dataset.csv')"
   ]
  },
  {
   "cell_type": "markdown",
   "metadata": {},
   "source": [
    "# **Análises iniciais**"
   ]
  },
  {
   "cell_type": "markdown",
   "metadata": {},
   "source": [
    "**Dataset Customers**"
   ]
  },
  {
   "cell_type": "code",
   "execution_count": null,
   "metadata": {},
   "outputs": [],
   "source": [
    "# Quantidade de nulos\n",
    "\n",
    "nulls_customers = df_customers.isnull().sum()\n",
    "nulls_customers"
   ]
  },
  {
   "cell_type": "code",
   "execution_count": null,
   "metadata": {},
   "outputs": [],
   "source": [
    "# Informacoes gerais\n",
    "\n",
    "info_customers = df_customers.info()\n",
    "info_customers"
   ]
  },
  {
   "cell_type": "code",
   "execution_count": null,
   "metadata": {},
   "outputs": [],
   "source": [
    "# Contagem de cada estado\n",
    "\n",
    "state_customers = df_customers.value_counts('customer_state')\n",
    "state_customers"
   ]
  },
  {
   "cell_type": "code",
   "execution_count": null,
   "metadata": {},
   "outputs": [],
   "source": [
    "# Informacoes sobre os estados e as cidades\n",
    "\n",
    "describe_customers = df_customers[['customer_state','customer_city']].describe()\n",
    "describe_customers"
   ]
  },
  {
   "cell_type": "markdown",
   "metadata": {},
   "source": [
    "**Dataset Reviews**"
   ]
  },
  {
   "cell_type": "code",
   "execution_count": null,
   "metadata": {},
   "outputs": [],
   "source": [
    "# Informacoes gerais\n",
    "\n",
    "info_reviews = df_reviews.info()\n",
    "info_reviews"
   ]
  },
  {
   "cell_type": "code",
   "execution_count": null,
   "metadata": {},
   "outputs": [],
   "source": [
    "# Quantidade de nulos\n",
    "\n",
    "nulls_reviews = df_reviews.isnull().sum()\n",
    "nulls_reviews"
   ]
  },
  {
   "cell_type": "code",
   "execution_count": null,
   "metadata": {},
   "outputs": [],
   "source": [
    "# Contagem de cada nota dos reviews\n",
    "\n",
    "score_count = df_reviews.value_counts('review_score')\n",
    "score_count"
   ]
  },
  {
   "cell_type": "code",
   "execution_count": null,
   "metadata": {},
   "outputs": [],
   "source": [
    "# Informacoes sobre as notas de review\n",
    "\n",
    "describe_reviews = df_reviews[['review_score']].describe()\n",
    "describe_reviews"
   ]
  },
  {
   "cell_type": "markdown",
   "metadata": {},
   "source": [
    "**Dataset Products**"
   ]
  },
  {
   "cell_type": "code",
   "execution_count": null,
   "metadata": {},
   "outputs": [],
   "source": [
    "#Informacoes gerais\n",
    "\n",
    "info_products = df_products.info()\n",
    "info_products"
   ]
  },
  {
   "cell_type": "code",
   "execution_count": null,
   "metadata": {},
   "outputs": [],
   "source": [
    "# Quantidade de nulos\n",
    "\n",
    "nulls_products = df_products.isnull().sum()\n",
    "nulls_products"
   ]
  },
  {
   "cell_type": "code",
   "execution_count": null,
   "metadata": {},
   "outputs": [],
   "source": [
    "# Contagem por categoria\n",
    "\n",
    "products_count = df_products.value_counts('product_category_name')\n",
    "products_count"
   ]
  },
  {
   "cell_type": "code",
   "execution_count": null,
   "metadata": {},
   "outputs": [],
   "source": [
    "#Informacoes sobre os produtos\n",
    "\n",
    "describe_products = df_products[['product_weight_g','product_length_cm', 'product_height_cm', 'product_width_cm']].describe()\n",
    "describe_products"
   ]
  },
  {
   "cell_type": "markdown",
   "metadata": {},
   "source": [
    "# **Máscaras Booleanas**"
   ]
  },
  {
   "cell_type": "code",
   "execution_count": null,
   "metadata": {},
   "outputs": [],
   "source": [
    "# Reviews com uma nota maior ou igual a 3\n",
    "df_reviews[df_reviews['review_score'] >= 3]\n"
   ]
  },
  {
   "cell_type": "code",
   "execution_count": null,
   "metadata": {},
   "outputs": [],
   "source": [
    "# Pacotes com peso maior que a media\n",
    "df_products[df_products['product_weight_g'] > df_products['product_weight_g'].mean()]\n"
   ]
  },
  {
   "cell_type": "code",
   "execution_count": null,
   "metadata": {},
   "outputs": [],
   "source": [
    "# Produtos com a quantidade de fotos maior que a media\n",
    "df_products[df_products['product_photos_qty'] > df_products['product_photos_qty'].mean()]\n"
   ]
  },
  {
   "cell_type": "markdown",
   "metadata": {},
   "source": [
    "# **Novas Colunas**"
   ]
  },
  {
   "cell_type": "code",
   "execution_count": null,
   "metadata": {},
   "outputs": [],
   "source": [
    "# Categorizar tamanho dos produtos como pequeno medio e grande\n",
    "size = np.sum(df_products[['product_length_cm','product_height_cm', 'product_width_cm']], axis = 1)\n",
    "\n",
    "df_products['product_size'] = 'Pequeno'\n",
    "df_products.loc[size >= 70, 'product_size'] = 'Medio'\n",
    "df_products.loc[size >= 150, 'product_size'] = 'Grande'\n",
    "\n",
    "df_products"
   ]
  },
  {
   "cell_type": "code",
   "execution_count": null,
   "metadata": {},
   "outputs": [],
   "source": [
    "# Adicionando regioes\n",
    "\n",
    "regions = np.array(['Norte', 'Norte', 'Norte', 'Norte', 'Norte', 'Norte', 'Norte', 'Nordeste', 'Nordeste', 'Nordeste', 'Nordeste', 'Nordeste', 'Nordeste', 'Nordeste', 'Nordeste', 'Nordeste', 'Centro-oeste', 'Centro-oeste', 'Centro-oeste', 'Centro-oeste', 'Sudeste', 'Sudeste', 'Sudeste', 'Sudeste', 'Sul', 'Sul', 'Sul'])\n",
    "states = np.array(['AC', 'AM', 'AP', 'PA', 'RO', 'RR', 'TO', 'AL', 'BA', 'CE', 'MA', 'PB', 'PE', 'PI', 'RN', 'SE', 'DF', 'GO', 'MT', 'MS', 'ES', 'MG', 'RJ', 'SP', 'PR', 'RS', 'SC'])\n",
    "map_regions = dict(zip(states, regions))\n",
    "df_customers['customer_region'] = df_customers['customer_state'].map(map_regions)\n",
    "\n",
    "df_customers"
   ]
  },
  {
   "cell_type": "code",
   "execution_count": null,
   "metadata": {},
   "outputs": [],
   "source": [
    "# Booleanos para as notas\n",
    "\n",
    "df_reviews['score_5'] = np.array(df_reviews['review_score'] == 5)\n",
    "\n",
    "df_reviews"
   ]
  }
 ],
 "metadata": {
  "kernelspec": {
   "display_name": "Python 3",
   "language": "python",
   "name": "python3"
  },
  "language_info": {
   "codemirror_mode": {
    "name": "ipython",
    "version": 3
   },
   "file_extension": ".py",
   "mimetype": "text/x-python",
   "name": "python",
   "nbconvert_exporter": "python",
   "pygments_lexer": "ipython3",
   "version": "3.12.1"
  }
 },
 "nbformat": 4,
 "nbformat_minor": 2
}
